{
 "cells": [
  {
   "cell_type": "markdown",
   "metadata": {},
   "source": [
    "# Introdução\n",
    "\n",
    "Este notebook tem como objetivo principal a extração, processamento e análise de dados de notas de alunos a partir de arquivos PDF. O fluxo de trabalho inclui as seguintes etapas:\n",
    "\n",
    "1. **Extração de Dados**: Utilizamos a biblioteca `pdfplumber` para extrair tabelas de arquivos PDF contendo informações sobre as notas e faltas dos alunos.\n",
    "2. **Validação e Transformação**: As linhas extraídas são validadas e transformadas em um formato estruturado para facilitar a manipulação.\n",
    "3. **Criação do Dataset**: Os dados processados são organizados em um DataFrame do `pandas` e salvos em um arquivo CSV para análises futuras.\n",
    "4. **Análise de Dados**: Realizamos análises exploratórias e visualizações para compreender melhor o desempenho dos alunos e identificar padrões nos dados.\n",
    "\n",
    "Este processo automatizado permite consolidar informações de múltiplos arquivos PDF em um único dataset, facilitando a análise e a tomada de decisões."
   ]
  },
  {
   "cell_type": "markdown",
   "metadata": {},
   "source": [
    "# Código\n",
    "```markdown\n",
    "\n",
    "A célula de código abaixo importa as bibliotecas necessárias para o processamento e análise de dados. As bibliotecas utilizadas são:\n",
    "\n",
    "- `pdfplumber`: Para extração de tabelas de arquivos PDF.\n",
    "- `pandas`: Para manipulação e análise de dados em formato tabular.\n",
    "- `matplotlib.pyplot`: Para criação de gráficos e visualizações.\n",
    "- `seaborn`: Para visualizações estatísticas mais avançadas.\n",
    "- `os`: Para manipulação de arquivos e diretórios no sistema operacional.\n",
    "\n",
    "Essas bibliotecas são essenciais para o fluxo de trabalho descrito no notebook, permitindo a extração, transformação e análise dos dados de forma eficiente.\n",
    "```"
   ]
  },
  {
   "cell_type": "code",
   "execution_count": 1,
   "metadata": {},
   "outputs": [
    {
     "ename": "ModuleNotFoundError",
     "evalue": "No module named 'seaborn'",
     "output_type": "error",
     "traceback": [
      "\u001b[31m---------------------------------------------------------------------------\u001b[39m",
      "\u001b[31mModuleNotFoundError\u001b[39m                       Traceback (most recent call last)",
      "\u001b[36mCell\u001b[39m\u001b[36m \u001b[39m\u001b[32mIn[1]\u001b[39m\u001b[32m, line 4\u001b[39m\n\u001b[32m      2\u001b[39m \u001b[38;5;28;01mimport\u001b[39;00m\u001b[38;5;250m \u001b[39m\u001b[34;01mpandas\u001b[39;00m\u001b[38;5;250m \u001b[39m\u001b[38;5;28;01mas\u001b[39;00m\u001b[38;5;250m \u001b[39m\u001b[34;01mpd\u001b[39;00m\n\u001b[32m      3\u001b[39m \u001b[38;5;28;01mimport\u001b[39;00m\u001b[38;5;250m \u001b[39m\u001b[34;01mmatplotlib\u001b[39;00m\u001b[34;01m.\u001b[39;00m\u001b[34;01mpyplot\u001b[39;00m\u001b[38;5;250m \u001b[39m\u001b[38;5;28;01mas\u001b[39;00m\u001b[38;5;250m \u001b[39m\u001b[34;01mplt\u001b[39;00m\n\u001b[32m----> \u001b[39m\u001b[32m4\u001b[39m \u001b[38;5;28;01mimport\u001b[39;00m\u001b[38;5;250m \u001b[39m\u001b[34;01mseaborn\u001b[39;00m\u001b[38;5;250m \u001b[39m\u001b[38;5;28;01mas\u001b[39;00m\u001b[38;5;250m \u001b[39m\u001b[34;01msns\u001b[39;00m\n\u001b[32m      5\u001b[39m \u001b[38;5;28;01mimport\u001b[39;00m\u001b[38;5;250m \u001b[39m\u001b[34;01mos\u001b[39;00m\n",
      "\u001b[31mModuleNotFoundError\u001b[39m: No module named 'seaborn'"
     ]
    }
   ],
   "source": [
    "import pdfplumber\n",
    "import pandas as pd\n",
    "import matplotlib.pyplot as plt\n",
    "import seaborn as sns\n",
    "import os"
   ]
  },
  {
   "cell_type": "markdown",
   "metadata": {},
   "source": [
    "# Funções de Processamento de Dados\n",
    "\n",
    "As células de código abaixo contêm funções essenciais para o processamento dos dados extraídos dos arquivos PDF. Essas funções incluem:\n",
    "\n",
    "- **`eh_linha_valida(linha)`**: Valida se uma linha extraída do PDF contém informações relevantes e está no formato esperado.\n",
    "- **`extrair_dados_do_pdf(pdf_path, aluno_id)`**: Extrai os dados de um arquivo PDF específico, validando as linhas e associando um identificador único para cada aluno.\n",
    "- **`extrair_notas_pasta(pasta_pdfs, csv_completo)`**: Processa todos os arquivos PDF em uma pasta, consolidando os dados em um único dataset no formato CSV.\n",
    "- **`criar_dataframe(dados)`**: Converte os dados extraídos em um DataFrame do pandas, estruturando as colunas de acordo com o conteúdo.\n",
    "- **`salvar_datasets(df, csv_completo)`**: Salva o DataFrame final em um arquivo CSV para análises futuras.\n",
    "\n",
    "Essas funções são fundamentais para garantir que os dados sejam extraídos, validados e organizados de forma eficiente e consistente."
   ]
  },
  {
   "cell_type": "code",
   "execution_count": null,
   "metadata": {},
   "outputs": [],
   "source": [
    "def eh_linha_valida(linha):\n",
    "    if not linha or len(linha) < 8:\n",
    "        return False\n",
    "    \n",
    "    if not linha[0] or not ('/' in linha[0] or linha[0].startswith(('DC', 'DMAT', 'DFIS'))):\n",
    "        return False\n",
    "    \n",
    "    if not linha[1]:\n",
    "        return False\n",
    "    \n",
    "    return any(i < len(linha) and linha[i] and any(c.isdigit() for c in linha[i]) for i in range(2, 5))\n"
   ]
  },
  {
   "cell_type": "code",
   "execution_count": null,
   "metadata": {},
   "outputs": [],
   "source": [
    "def extrair_dados_do_pdf(pdf_path, aluno_id):\n",
    "    dados = []\n",
    "    with pdfplumber.open(pdf_path) as pdf:\n",
    "        for page in pdf.pages:\n",
    "            tabelas = page.extract_tables()\n",
    "            if tabelas:\n",
    "                for tabela in tabelas:\n",
    "                    for linha in tabela:\n",
    "                        if eh_linha_valida(linha):\n",
    "                            dados.append([aluno_id] + linha)\n",
    "    return dados"
   ]
  },
  {
   "cell_type": "code",
   "execution_count": null,
   "metadata": {},
   "outputs": [],
   "source": [
    "def extrair_notas_pasta(pasta_pdfs, csv_completo):\n",
    "    df_final = pd.DataFrame()\n",
    "    arquivos_pdf = [f for f in os.listdir(pasta_pdfs) if f.endswith(\".pdf\")]\n",
    "    \n",
    "    for idx, arquivo in enumerate(sorted(arquivos_pdf), start=1):\n",
    "        pdf_path = os.path.join(pasta_pdfs, arquivo)\n",
    "        dados = extrair_dados_do_pdf(pdf_path, idx)\n",
    "        df = criar_dataframe(dados)\n",
    "        df_final = pd.concat([df_final, df], ignore_index=True)\n",
    "    \n",
    "    salvar_datasets(df_final, csv_completo)\n",
    "    print(f\"Dataset gerado com sucesso: {csv_completo}\")"
   ]
  },
  {
   "cell_type": "code",
   "execution_count": null,
   "metadata": {},
   "outputs": [],
   "source": [
    "def criar_dataframe(dados):\n",
    "    if not dados:\n",
    "        return pd.DataFrame()\n",
    "    \n",
    "    max_cols = max(len(linha) for linha in dados)\n",
    "    colunas = [\"AlunoID\", \"Código\", \"Disciplina\", \"Unidade 1\", \"Unidade 2\", \"Unidade 3\", \"Unidade 4\", \"Unidade 5\", \"Prova Final\", \"Resultado\", \"Faltas\", \"Situação\"]\n",
    "    colunas = colunas[:max_cols] if max_cols <= len(colunas) else colunas + [f\"Col{i}\" for i in range(len(colunas)+1, max_cols+1)]\n",
    "    \n",
    "    return pd.DataFrame(dados, columns=colunas)"
   ]
  },
  {
   "cell_type": "code",
   "execution_count": null,
   "metadata": {},
   "outputs": [],
   "source": [
    "def salvar_datasets(df, csv_completo):\n",
    "    df.to_csv(csv_completo, index=False)"
   ]
  },
  {
   "cell_type": "code",
   "execution_count": null,
   "metadata": {},
   "outputs": [
    {
     "name": "stdout",
     "output_type": "stream",
     "text": [
      "Dataset gerado com sucesso: Datasets/notas_alunos.csv\n",
      "Processo concluído.\n"
     ]
    }
   ],
   "source": [
    "if __name__ == \"__main__\":\n",
    "    pasta_pdfs = \"./NotasPDF\"\n",
    "    extrair_notas_pasta(pasta_pdfs, \"Datasets/notas_alunos.csv\")\n",
    "    print(\"Processo concluído.\")"
   ]
  },
  {
   "cell_type": "markdown",
   "metadata": {},
   "source": [
    "# Exibição dos Resultados\n",
    "\n",
    "O trecho de código abaixo é responsável por exibir os resultados da análise de dados. Ele inclui:\n",
    "\n",
    "1. **Informações Gerais**:\n",
    "    - Número total de alunos e disciplinas.\n",
    "    - Média geral das notas e faltas.\n",
    "    - Identificação do aluno com maior e menor média.\n",
    "\n",
    "2. **Distribuição e Visualizações**:\n",
    "    - Contagem da situação dos alunos (aprovados, reprovados, etc.).\n",
    "    - Gráfico de barras mostrando a quantidade de disciplinas por aluno.\n",
    "    - Gráfico de barras com a média geral por aluno.\n",
    "    - Histograma para visualizar a distribuição das médias.\n",
    "    - Gráfico de barras com a situação dos alunos.\n",
    "    - Gráfico de barras com a média de faltas por aluno.\n",
    "\n",
    "Essas visualizações e estatísticas ajudam a compreender melhor o desempenho dos alunos e identificar padrões ou problemas nos dados analisados."
   ]
  },
  {
   "cell_type": "code",
   "execution_count": null,
   "metadata": {},
   "outputs": [
    {
     "ename": "NameError",
     "evalue": "name 'pd' is not defined",
     "output_type": "error",
     "traceback": [
      "\u001b[31m---------------------------------------------------------------------------\u001b[39m",
      "\u001b[31mNameError\u001b[39m                                 Traceback (most recent call last)",
      "\u001b[36mCell\u001b[39m\u001b[36m \u001b[39m\u001b[32mIn[1]\u001b[39m\u001b[32m, line 67\u001b[39m\n\u001b[32m     64\u001b[39m     plt.show()\n\u001b[32m     66\u001b[39m \u001b[38;5;28;01mif\u001b[39;00m \u001b[34m__name__\u001b[39m == \u001b[33m\"\u001b[39m\u001b[33m__main__\u001b[39m\u001b[33m\"\u001b[39m:\n\u001b[32m---> \u001b[39m\u001b[32m67\u001b[39m     \u001b[43manalisar_dados\u001b[49m\u001b[43m(\u001b[49m\u001b[33;43m\"\u001b[39;49m\u001b[33;43mDatasets/notas_alunos.csv\u001b[39;49m\u001b[33;43m\"\u001b[39;49m\u001b[43m)\u001b[49m\n",
      "\u001b[36mCell\u001b[39m\u001b[36m \u001b[39m\u001b[32mIn[1]\u001b[39m\u001b[32m, line 4\u001b[39m, in \u001b[36manalisar_dados\u001b[39m\u001b[34m(caminho_csv)\u001b[39m\n\u001b[32m      3\u001b[39m \u001b[38;5;28;01mdef\u001b[39;00m\u001b[38;5;250m \u001b[39m\u001b[34manalisar_dados\u001b[39m(caminho_csv=\u001b[33m\"\u001b[39m\u001b[33mDatasets/notas_alunos.csv\u001b[39m\u001b[33m\"\u001b[39m):\n\u001b[32m----> \u001b[39m\u001b[32m4\u001b[39m     df = \u001b[43mpd\u001b[49m.read_csv(caminho_csv)\n\u001b[32m      5\u001b[39m     df[\u001b[33m\"\u001b[39m\u001b[33mAlunoID\u001b[39m\u001b[33m\"\u001b[39m] = df[\u001b[33m\"\u001b[39m\u001b[33mAlunoID\u001b[39m\u001b[33m\"\u001b[39m].astype(\u001b[38;5;28mstr\u001b[39m).str.strip().str.upper()\n\u001b[32m      8\u001b[39m     colunas_notas = [\u001b[33m\"\u001b[39m\u001b[33mUnidade 1\u001b[39m\u001b[33m\"\u001b[39m, \u001b[33m\"\u001b[39m\u001b[33mUnidade 2\u001b[39m\u001b[33m\"\u001b[39m, \u001b[33m\"\u001b[39m\u001b[33mUnidade 3\u001b[39m\u001b[33m\"\u001b[39m, \u001b[33m\"\u001b[39m\u001b[33mUnidade 4\u001b[39m\u001b[33m\"\u001b[39m, \u001b[33m\"\u001b[39m\u001b[33mUnidade 5\u001b[39m\u001b[33m\"\u001b[39m, \u001b[33m\"\u001b[39m\u001b[33mProva Final\u001b[39m\u001b[33m\"\u001b[39m, \u001b[33m\"\u001b[39m\u001b[33mResultado\u001b[39m\u001b[33m\"\u001b[39m]\n",
      "\u001b[31mNameError\u001b[39m: name 'pd' is not defined"
     ]
    }
   ],
   "source": [
    "%matplotlib inline\n",
    "\n",
    "def analisar_dados(caminho_csv=\"Datasets/notas_alunos.csv\"):\n",
    "    df = pd.read_csv(caminho_csv)\n",
    "    df[\"AlunoID\"] = df[\"AlunoID\"].astype(str).str.strip().str.upper()\n",
    "\n",
    "\n",
    "    colunas_notas = [\"Unidade 1\", \"Unidade 2\", \"Unidade 3\", \"Unidade 4\", \"Unidade 5\", \"Prova Final\", \"Resultado\"]\n",
    "    for col in colunas_notas:\n",
    "        if col in df.columns:\n",
    "            df[col] = df[col].str.replace(\",\", \".\").astype(float)\n",
    "\n",
    "    df[\"Faltas\"] = pd.to_numeric(df[\"Faltas\"], errors=\"coerce\")\n",
    "\n",
    "    df[\"Média\"] = df[colunas_notas].mean(axis=1, skipna=True)\n",
    "\n",
    "    print(\"Número total de alunos:\", df[\"AlunoID\"].nunique())\n",
    "    print(\"Número total de disciplinas:\", df[\"Disciplina\"].nunique())\n",
    "    print(\"Média geral das notas:\", round(df[\"Média\"].mean(), 2))\n",
    "    print(\"Média geral de faltas:\", round(df[\"Faltas\"].mean(), 2))\n",
    "    \n",
    "    aluno_melhor = df.groupby(\"AlunoID\")[\"Média\"].mean().idxmax()\n",
    "    aluno_pior = df.groupby(\"AlunoID\")[\"Média\"].mean().idxmin()\n",
    "    print(f\"Aluno com maior média: {aluno_melhor}\")\n",
    "    print(f\"Aluno com menor média: {aluno_pior}\")\n",
    "\n",
    "    print(\"\\nSituação dos alunos:\")\n",
    "    print(df[\"Situação\"].value_counts())\n",
    "\n",
    "    # Disciplinas por aluno\n",
    "    df[\"AlunoID\"].value_counts().sort_index().plot(kind='bar', figsize=(10, 4), title=\"Disciplinas por Aluno\")\n",
    "    plt.xlabel(\"AlunoID\")\n",
    "    plt.ylabel(\"Qtd de Disciplinas\")\n",
    "    plt.tight_layout()\n",
    "    plt.show()\n",
    "\n",
    "    # Média geral por aluno\n",
    "    df.groupby(\"AlunoID\")[\"Média\"].mean().plot(kind=\"bar\", color=\"green\", figsize=(10, 4), title=\"Média Geral por Aluno\")\n",
    "    plt.xlabel(\"AlunoID\")\n",
    "    plt.ylabel(\"Média\")\n",
    "    plt.tight_layout()\n",
    "    plt.show()\n",
    "\n",
    "    # Distribuição das médias\n",
    "    df[\"Média\"].hist(bins=15, color=\"skyblue\", edgecolor=\"black\")\n",
    "    plt.title(\"Distribuição das Médias\")\n",
    "    plt.xlabel(\"Média\")\n",
    "    plt.ylabel(\"Frequência\")\n",
    "    plt.tight_layout()\n",
    "    plt.show()\n",
    "\n",
    "    # Situação dos alunos\n",
    "    df[\"Situação\"].value_counts().plot(kind='bar', color='purple', figsize=(6,4), title=\"Situação dos Alunos\")\n",
    "    plt.xlabel(\"Situação\")\n",
    "    plt.ylabel(\"Quantidade\")\n",
    "    plt.tight_layout()\n",
    "    plt.show()\n",
    "\n",
    "    # Média de faltas por aluno\n",
    "    df.groupby(\"AlunoID\")[\"Faltas\"].mean().plot(kind=\"bar\", color=\"tomato\", figsize=(10, 4), title=\"Faltas Médias por Aluno\")\n",
    "    plt.xlabel(\"AlunoID\")\n",
    "    plt.ylabel(\"Faltas Médias\")\n",
    "    plt.tight_layout()\n",
    "    plt.show()\n",
    "\n",
    "if __name__ == \"__main__\":\n",
    "    analisar_dados(\"Datasets/notas_alunos.csv\")\n"
   ]
  }
 ],
 "metadata": {
  "kernelspec": {
   "display_name": ".env",
   "language": "python",
   "name": "python3"
  },
  "language_info": {
   "codemirror_mode": {
    "name": "ipython",
    "version": 3
   },
   "file_extension": ".py",
   "mimetype": "text/x-python",
   "name": "python",
   "nbconvert_exporter": "python",
   "pygments_lexer": "ipython3",
   "version": "3.13.1"
  }
 },
 "nbformat": 4,
 "nbformat_minor": 2
}
