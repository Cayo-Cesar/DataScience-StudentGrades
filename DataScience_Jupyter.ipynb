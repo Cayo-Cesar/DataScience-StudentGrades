{
 "cells": [
  {
   "cell_type": "code",
   "execution_count": null,
   "metadata": {},
   "outputs": [],
   "source": [
    "import pdfplumber\n",
    "import pandas as pd\n",
    "import matplotlib.pyplot as plt\n",
    "import seaborn as sns\n",
    "import os"
   ]
  },
  {
   "cell_type": "code",
   "execution_count": null,
   "metadata": {},
   "outputs": [],
   "source": [
    "def eh_linha_valida(linha):\n",
    "    if not linha or len(linha) < 8:\n",
    "        return False\n",
    "    \n",
    "    if not linha[0] or not ('/' in linha[0] or linha[0].startswith(('DC', 'DMAT', 'DFIS'))):\n",
    "        return False\n",
    "    \n",
    "    if not linha[1]:\n",
    "        return False\n",
    "    \n",
    "    return any(i < len(linha) and linha[i] and any(c.isdigit() for c in linha[i]) for i in range(2, 5))\n"
   ]
  },
  {
   "cell_type": "code",
   "execution_count": null,
   "metadata": {},
   "outputs": [],
   "source": [
    "def extrair_dados_do_pdf(pdf_path, aluno_id):\n",
    "    dados = []\n",
    "    with pdfplumber.open(pdf_path) as pdf:\n",
    "        for page in pdf.pages:\n",
    "            tabelas = page.extract_tables()\n",
    "            if tabelas:\n",
    "                for tabela in tabelas:\n",
    "                    for linha in tabela:\n",
    "                        if eh_linha_valida(linha):\n",
    "                            dados.append([aluno_id] + linha)\n",
    "    return dados"
   ]
  },
  {
   "cell_type": "code",
   "execution_count": null,
   "metadata": {},
   "outputs": [],
   "source": [
    "def extrair_notas_pasta(pasta_pdfs, csv_completo):\n",
    "    df_final = pd.DataFrame()\n",
    "    arquivos_pdf = [f for f in os.listdir(pasta_pdfs) if f.endswith(\".pdf\")]\n",
    "    \n",
    "    for idx, arquivo in enumerate(sorted(arquivos_pdf), start=1):\n",
    "        pdf_path = os.path.join(pasta_pdfs, arquivo)\n",
    "        dados = extrair_dados_do_pdf(pdf_path, idx)\n",
    "        df = criar_dataframe(dados)\n",
    "        df_final = pd.concat([df_final, df], ignore_index=True)\n",
    "    \n",
    "    salvar_datasets(df_final, csv_completo)\n",
    "    print(f\"Dataset gerado com sucesso: {csv_completo}\")"
   ]
  },
  {
   "cell_type": "code",
   "execution_count": null,
   "metadata": {},
   "outputs": [],
   "source": [
    "def criar_dataframe(dados):\n",
    "    if not dados:\n",
    "        return pd.DataFrame()\n",
    "    \n",
    "    max_cols = max(len(linha) for linha in dados)\n",
    "    colunas = [\"AlunoID\", \"Código\", \"Disciplina\", \"Unidade 1\", \"Unidade 2\", \"Unidade 3\", \"Unidade 4\", \"Unidade 5\", \"Prova Final\", \"Resultado\", \"Faltas\", \"Situação\"]\n",
    "    colunas = colunas[:max_cols] if max_cols <= len(colunas) else colunas + [f\"Col{i}\" for i in range(len(colunas)+1, max_cols+1)]\n",
    "    \n",
    "    return pd.DataFrame(dados, columns=colunas)"
   ]
  },
  {
   "cell_type": "code",
   "execution_count": null,
   "metadata": {},
   "outputs": [],
   "source": [
    "def salvar_datasets(df, csv_completo):\n",
    "    df.to_csv(csv_completo, index=False)"
   ]
  },
  {
   "cell_type": "code",
   "execution_count": null,
   "metadata": {},
   "outputs": [],
   "source": [
    "if __name__ == \"__main__\":\n",
    "    pasta_pdfs = \"./NotasPDF\"\n",
    "    extrair_notas_pasta(pasta_pdfs, \"Datasets/notas_alunos.csv\")\n",
    "    print(\"Processo concluído.\")"
   ]
  },
  {
   "cell_type": "code",
   "execution_count": null,
   "metadata": {},
   "outputs": [],
   "source": [
    "%matplotlib inline\n",
    "\n",
    "def analisar_dados(caminho_csv=\"Datasets/notas_alunos.csv\"):\n",
    "    df = pd.read_csv(caminho_csv)\n",
    "    df[\"AlunoID\"] = df[\"AlunoID\"].astype(str).str.strip().str.upper()\n",
    "\n",
    "\n",
    "    colunas_notas = [\"Unidade 1\", \"Unidade 2\", \"Unidade 3\", \"Unidade 4\", \"Unidade 5\", \"Prova Final\", \"Resultado\"]\n",
    "    for col in colunas_notas:\n",
    "        if col in df.columns:\n",
    "            df[col] = df[col].str.replace(\",\", \".\").astype(float)\n",
    "\n",
    "    df[\"Faltas\"] = pd.to_numeric(df[\"Faltas\"], errors=\"coerce\")\n",
    "\n",
    "    df[\"Média\"] = df[colunas_notas].mean(axis=1, skipna=True)\n",
    "\n",
    "    print(\"Número total de alunos:\", df[\"AlunoID\"].nunique())\n",
    "    print(\"Número total de disciplinas:\", df[\"Disciplina\"].nunique())\n",
    "    print(\"Média geral das notas:\", round(df[\"Média\"].mean(), 2))\n",
    "    print(\"Média geral de faltas:\", round(df[\"Faltas\"].mean(), 2))\n",
    "    \n",
    "    aluno_melhor = df.groupby(\"AlunoID\")[\"Média\"].mean().idxmax()\n",
    "    aluno_pior = df.groupby(\"AlunoID\")[\"Média\"].mean().idxmin()\n",
    "    print(f\"Aluno com maior média: {aluno_melhor}\")\n",
    "    print(f\"Aluno com menor média: {aluno_pior}\")\n",
    "\n",
    "    print(\"\\nSituação dos alunos:\")\n",
    "    print(df[\"Situação\"].value_counts())\n",
    "\n",
    "    # Disciplinas por aluno\n",
    "    df[\"AlunoID\"].value_counts().sort_index().plot(kind='bar', figsize=(10, 4), title=\"Disciplinas por Aluno\")\n",
    "    plt.xlabel(\"AlunoID\")\n",
    "    plt.ylabel(\"Qtd de Disciplinas\")\n",
    "    plt.tight_layout()\n",
    "    plt.show()\n",
    "\n",
    "    # Média geral por aluno\n",
    "    df.groupby(\"AlunoID\")[\"Média\"].mean().plot(kind=\"bar\", color=\"green\", figsize=(10, 4), title=\"Média Geral por Aluno\")\n",
    "    plt.xlabel(\"AlunoID\")\n",
    "    plt.ylabel(\"Média\")\n",
    "    plt.tight_layout()\n",
    "    plt.show()\n",
    "\n",
    "    # Distribuição das médias\n",
    "    df[\"Média\"].hist(bins=15, color=\"skyblue\", edgecolor=\"black\")\n",
    "    plt.title(\"Distribuição das Médias\")\n",
    "    plt.xlabel(\"Média\")\n",
    "    plt.ylabel(\"Frequência\")\n",
    "    plt.tight_layout()\n",
    "    plt.show()\n",
    "\n",
    "    # Boxplot das notas por unidade\n",
    "    notas_long = df.melt(id_vars=[\"AlunoID\"], value_vars=colunas_notas, var_name=\"Unidade\", value_name=\"Nota\")\n",
    "    plt.figure(figsize=(10, 6))\n",
    "    sns.boxplot(data=notas_long, x=\"Unidade\", y=\"Nota\", palette=\"pastel\")\n",
    "    plt.title(\"Distribuição das Notas por Unidade\")\n",
    "    plt.tight_layout()\n",
    "    plt.show()\n",
    "\n",
    "    # Situação dos alunos\n",
    "    df[\"Situação\"].value_counts().plot(kind='bar', color='purple', figsize=(6,4), title=\"Situação dos Alunos\")\n",
    "    plt.xlabel(\"Situação\")\n",
    "    plt.ylabel(\"Quantidade\")\n",
    "    plt.tight_layout()\n",
    "    plt.show()\n",
    "\n",
    "    # Média de faltas por aluno\n",
    "    df.groupby(\"AlunoID\")[\"Faltas\"].mean().plot(kind=\"bar\", color=\"tomato\", figsize=(10, 4), title=\"Faltas Médias por Aluno\")\n",
    "    plt.xlabel(\"AlunoID\")\n",
    "    plt.ylabel(\"Faltas Médias\")\n",
    "    plt.tight_layout()\n",
    "    plt.show()\n",
    "\n",
    "    # Correlação entre faltas e média\n",
    "    plt.figure(figsize=(6, 5))\n",
    "    sns.scatterplot(data=df, x=\"Faltas\", y=\"Média\", hue=\"AlunoID\", palette=\"tab10\")\n",
    "    plt.title(\"Faltas vs. Média\")\n",
    "    plt.tight_layout()\n",
    "    plt.show()\n",
    "\n",
    "if __name__ == \"__main__\":\n",
    "    analisar_dados(\"Datasets/notas_alunos.csv\")\n"
   ]
  }
 ],
 "metadata": {
  "kernelspec": {
   "display_name": "Python 3",
   "language": "python",
   "name": "python3"
  },
  "language_info": {
   "codemirror_mode": {
    "name": "ipython",
    "version": 3
   },
   "file_extension": ".py",
   "mimetype": "text/x-python",
   "name": "python",
   "nbconvert_exporter": "python",
   "pygments_lexer": "ipython3",
   "version": "3.13.2"
  }
 },
 "nbformat": 4,
 "nbformat_minor": 2
}
